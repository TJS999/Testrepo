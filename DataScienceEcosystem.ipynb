{
 "cells": [
  {
   "cell_type": "markdown",
   "id": "fb4181c5-f7be-4405-bbde-c27965be436b",
   "metadata": {},
   "source": [
    "# Data Science Tools and Ecosystem"
   ]
  },
  {
   "cell_type": "markdown",
   "id": "8e18ef52-1557-4334-bcb8-c50104bcd51d",
   "metadata": {},
   "source": [
    "## In this notebook, Data Science Tools and Ecosystem are summarized."
   ]
  },
  {
   "cell_type": "markdown",
   "id": "0071b8fb-3b77-4295-ae39-faf4dc4c5a01",
   "metadata": {},
   "source": [
    "#### Some of the popular languages that Data Scientists use are:\n",
    "1) Python\n",
    "2) R\n",
    "3) SQL"
   ]
  },
  {
   "cell_type": "markdown",
   "id": "f3e838b4-c928-4c2d-a88b-34925678b133",
   "metadata": {},
   "source": [
    "#### Some of the commonly used libraries used by Data Scientists include:\n",
    "1) NumPy\n",
    "2) MatPlotlib\n",
    "3) SciPy"
   ]
  },
  {
   "cell_type": "markdown",
   "id": "14574250-0dfc-4f89-b1f3-1d5861b37b19",
   "metadata": {},
   "source": [
    "## Data Science Tools\n",
    "--------------------\n",
    "|Data Science Tools|\n",
    "|-----------------| \n",
    "| RStudio |           \n",
    "| Jupyter Notebooks | \n",
    "| VS Code |           "
   ]
  },
  {
   "cell_type": "markdown",
   "id": "8537bb21-29f3-421b-9218-76d8cc08cc49",
   "metadata": {},
   "source": [
    "### Below are a few examples of evaluating arithmetic expressions in Python.\n",
    "\n",
    "\n",
    "\n"
   ]
  },
  {
   "cell_type": "code",
   "execution_count": 37,
   "id": "4bf74240-7f5f-4f3d-b9aa-0a055794c71b",
   "metadata": {},
   "outputs": [
    {
     "data": {
      "text/plain": [
       "17"
      ]
     },
     "execution_count": 37,
     "metadata": {},
     "output_type": "execute_result"
    }
   ],
   "source": [
    "#This a simple arithmetic expression to mutiply then add integers.\n",
    "(3*4)+5"
   ]
  },
  {
   "cell_type": "code",
   "execution_count": 41,
   "id": "e8862612-f6f8-48f9-a469-a1994943f3d8",
   "metadata": {},
   "outputs": [
    {
     "data": {
      "text/plain": [
       "3.3333333333333335"
      ]
     },
     "execution_count": 41,
     "metadata": {},
     "output_type": "execute_result"
    }
   ],
   "source": [
    "#This will convert 200 minutes to hours by diving by 60\n",
    "200/60"
   ]
  },
  {
   "cell_type": "markdown",
   "id": "695f732c-d69e-4bf9-a5e9-50008ad7d8ae",
   "metadata": {},
   "source": [
    "**Objectives:**\n",
    "- Python\n",
    "- SQL\n",
    "- Julia\n",
    "- R\n",
    "- Scala"
   ]
  },
  {
   "cell_type": "markdown",
   "id": "5f79bd23-4792-4c37-ab93-aa78545c7e6c",
   "metadata": {},
   "source": [
    "## Author ##\n",
    "Tejas Shah"
   ]
  },
  {
   "cell_type": "code",
   "execution_count": null,
   "id": "e85d14b2-84bd-491b-8e86-4dad3c3be089",
   "metadata": {},
   "outputs": [],
   "source": []
  }
 ],
 "metadata": {
  "kernelspec": {
   "display_name": "Python [conda env:base] *",
   "language": "python",
   "name": "conda-base-py"
  },
  "language_info": {
   "codemirror_mode": {
    "name": "ipython",
    "version": 3
   },
   "file_extension": ".py",
   "mimetype": "text/x-python",
   "name": "python",
   "nbconvert_exporter": "python",
   "pygments_lexer": "ipython3",
   "version": "3.12.7"
  }
 },
 "nbformat": 4,
 "nbformat_minor": 5
}
